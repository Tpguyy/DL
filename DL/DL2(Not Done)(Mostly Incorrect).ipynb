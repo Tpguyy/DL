{
 "cells": [
  {
   "cell_type": "code",
   "execution_count": 1,
   "id": "248b08e4",
   "metadata": {},
   "outputs": [
    {
     "name": "stdout",
     "output_type": "stream",
     "text": [
      "XOR gate output for input [1, -1]: -1\n"
     ]
    }
   ],
   "source": [
    "import numpy as np\n",
    "\n",
    "def bipolar_step_function(x):\n",
    "    if x > 0:\n",
    "        return 1\n",
    "    elif x == 0:\n",
    "        return 0\n",
    "    else:\n",
    "        return -1\n",
    "\n",
    "def xor_gate(input_values):\n",
    "    weights_hidden1 = np.array([[1, 1], [-1, -1], [-1, 1], [1, -1]])\n",
    "    biases_hidden1 = np.array([-1, -1, -1, -1])\n",
    "    outputs_hidden1 = [bipolar_step_function(np.dot(weights_hidden1[i], input_values) + biases_hidden1[i]) for i in range(4)]\n",
    "    \n",
    "    weights_hidden2 = np.array([2, 2, 2, -5])\n",
    "    bias_hidden2 = -1\n",
    "    output_hidden2 = bipolar_step_function(np.dot(weights_hidden2, outputs_hidden1) + bias_hidden2)\n",
    "    \n",
    "    return output_hidden2\n",
    "\n",
    "input_values = [1, -1]\n",
    "result = xor_gate(input_values)\n",
    "print(f\"XOR gate output for input {input_values}: {result}\")\n"
   ]
  },
  {
   "cell_type": "code",
   "execution_count": null,
   "id": "d260424e",
   "metadata": {},
   "outputs": [],
   "source": []
  }
 ],
 "metadata": {
  "kernelspec": {
   "display_name": "Python 3 (ipykernel)",
   "language": "python",
   "name": "python3"
  },
  "language_info": {
   "codemirror_mode": {
    "name": "ipython",
    "version": 3
   },
   "file_extension": ".py",
   "mimetype": "text/x-python",
   "name": "python",
   "nbconvert_exporter": "python",
   "pygments_lexer": "ipython3",
   "version": "3.9.13"
  }
 },
 "nbformat": 4,
 "nbformat_minor": 5
}
