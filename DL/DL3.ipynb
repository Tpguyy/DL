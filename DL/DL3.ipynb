{
 "cells": [
  {
   "cell_type": "code",
   "execution_count": 2,
   "id": "4e7b482d",
   "metadata": {},
   "outputs": [
    {
     "name": "stdout",
     "output_type": "stream",
     "text": [
      "Updated weight w1: [[0.14999358]]\n",
      "Updated weight w2: [[0.19998716]]\n",
      "Updated weight w3: [[0.24999211]]\n",
      "Updated weight w4: [[0.29998422]]\n",
      "Updated weight w5: [[0.42054176]]\n",
      "Updated weight w6: [[0.47066691]]\n",
      "Updated weight w7: [[0.49434936]]\n",
      "Updated weight w8: [[0.54431494]]\n"
     ]
    }
   ],
   "source": [
    "import numpy as np\n",
    "\n",
    "def sigmoid(x):\n",
    "    return 1 / (1 + np.exp(-x))\n",
    "\n",
    "def sigmoid_derivative(x):\n",
    "    return x * (1 - x)\n",
    "\n",
    "X = np.array([[0.05, 0.10]])\n",
    "D = np.array([[0.01, 0.99]])\n",
    "\n",
    "# Initial weights and biases\n",
    "w1, w2, w3, w4 = 0.15, 0.20, 0.25, 0.30\n",
    "w5, w6, w7, w8 = 0.40, 0.45, 0.50, 0.55\n",
    "b1, b2 = 0.35, 0.60\n",
    "\n",
    "learning_rate = 0.25\n",
    "\n",
    "def forward_pass(x):\n",
    "    h1_input = np.dot(x, np.array([[w1], [w2]])) + b1\n",
    "    h1_output = sigmoid(h1_input)\n",
    "    \n",
    "    h2_input = np.dot(x, np.array([[w3], [w4]])) + b1\n",
    "    h2_output = sigmoid(h2_input)\n",
    "    \n",
    "    ol_input = h1_output * w5 + h2_output * w6 + b2\n",
    "    ol_output = sigmoid(ol_input)\n",
    "    \n",
    "    o2_input = h1_output * w7 + h2_output * w8 + b2\n",
    "    o2_output = sigmoid(o2_input)\n",
    "    \n",
    "    return h1_output, h2_output, ol_output, o2_output\n",
    "\n",
    "def backpropagation(x, d):\n",
    "    global w1, w2, w3, w4, w5, w6, w7, w8, b1, b2\n",
    "    \n",
    "    h1_output, h2_output, ol_output, o2_output = forward_pass(x)\n",
    "    \n",
    "    ol_error = d[0][0] - ol_output\n",
    "    o2_error = d[0][1] - o2_output\n",
    "    \n",
    "    o2_delta = o2_error * sigmoid_derivative(o2_output)\n",
    "    ol_delta = ol_error * sigmoid_derivative(ol_output)\n",
    "    \n",
    "    h1_error = o2_delta * w5 + ol_delta * w7\n",
    "    h2_error = o2_delta * w6 + ol_delta * w8\n",
    "    \n",
    "    h1_delta = h1_error * sigmoid_derivative(h1_output)\n",
    "    h2_delta = h2_error * sigmoid_derivative(h2_output)\n",
    "    \n",
    "    w5 -= learning_rate * (ol_delta * h1_output)\n",
    "    w6 -= learning_rate * (ol_delta * h2_output)\n",
    "    w7 -= learning_rate * (o2_delta * h1_output)\n",
    "    w8 -= learning_rate * (o2_delta * h2_output)\n",
    "    \n",
    "    w1 -= learning_rate * ((ol_delta * h1_delta * w5 * x[0][0]) + (o2_delta * h1_delta * w7 * x[0][0]))\n",
    "    w2 -= learning_rate * ((ol_delta * h1_delta * w5 * x[0][1]) + (o2_delta * h1_delta * w7 * x[0][1]))\n",
    "    w3 -= learning_rate * ((ol_delta * h2_delta * w6 * x[0][0]) + (o2_delta * h2_delta * w8 * x[0][0]))\n",
    "    w4 -= learning_rate * ((ol_delta * h2_delta * w6 * x[0][1]) + (o2_delta * h2_delta * w8 * x[0][1]))\n",
    "\n",
    "backpropagation(X, D)\n",
    "\n",
    "print(\"Updated weight w1:\", w1)\n",
    "print(\"Updated weight w2:\", w2)\n",
    "print(\"Updated weight w3:\", w3)\n",
    "print(\"Updated weight w4:\", w4)\n",
    "print(\"Updated weight w5:\", w5)\n",
    "print(\"Updated weight w6:\", w6)\n",
    "print(\"Updated weight w7:\", w7)\n",
    "print(\"Updated weight w8:\", w8)\n"
   ]
  },
  {
   "cell_type": "code",
   "execution_count": null,
   "id": "13ef9968",
   "metadata": {},
   "outputs": [],
   "source": []
  }
 ],
 "metadata": {
  "kernelspec": {
   "display_name": "Python 3 (ipykernel)",
   "language": "python",
   "name": "python3"
  },
  "language_info": {
   "codemirror_mode": {
    "name": "ipython",
    "version": 3
   },
   "file_extension": ".py",
   "mimetype": "text/x-python",
   "name": "python",
   "nbconvert_exporter": "python",
   "pygments_lexer": "ipython3",
   "version": "3.9.13"
  }
 },
 "nbformat": 4,
 "nbformat_minor": 5
}
